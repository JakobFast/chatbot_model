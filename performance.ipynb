{
 "cells": [
  {
   "cell_type": "code",
   "execution_count": null,
   "metadata": {},
   "outputs": [],
   "source": [
    "import pandas as pd\n",
    "import nltk\n",
    "from nltk.corpus import stopwords\n",
    "from nltk.tokenize import word_tokenize\n",
    "from nltk.stem import PorterStemmer, WordNetLemmatizer\n",
    "from sklearn.feature_extraction.text import TfidfVectorizer\n",
    "from sklearn.metrics.pairwise import cosine_similarity\n",
    "\n"
   ]
  },
  {
   "cell_type": "code",
   "execution_count": null,
   "metadata": {},
   "outputs": [],
   "source": [
    "# Load data into a pandas dataframe\n",
    "data = pd.read_csv('example_data.csv')\n"
   ]
  },
  {
   "cell_type": "code",
   "execution_count": null,
   "metadata": {},
   "outputs": [],
   "source": [
    "# Convert text to lowercase\n",
    "data['question'] = data['question'].str.lower()\n",
    "data['response'] = data['response'].str.lower()"
   ]
  },
  {
   "cell_type": "code",
   "execution_count": null,
   "metadata": {},
   "outputs": [],
   "source": [
    "# Tokenize the text\n",
    "data['question_tokens'] = data['question'].apply(lambda x: word_tokenize(x))\n",
    "data['response_tokens'] = data['response'].apply(lambda x: word_tokenize(x))"
   ]
  },
  {
   "cell_type": "code",
   "execution_count": null,
   "metadata": {},
   "outputs": [],
   "source": [
    "# Remove stop words\n",
    "stop_words = set(stopwords.words('english'))\n",
    "data['question_tokens'] = data['question_tokens'].apply(lambda x: [word for word in x if word not in stop_words])\n",
    "data['response_tokens'] = data['response_tokens'].apply(lambda x: [word for word in x if word not in stop_words])"
   ]
  },
  {
   "cell_type": "code",
   "execution_count": null,
   "metadata": {},
   "outputs": [],
   "source": [
    "# Perform stemming\n",
    "ps = PorterStemmer()\n",
    "data['question_tokens'] = data['question_tokens'].apply(lambda x: [ps.stem(word) for word in x])\n",
    "data['response_tokens'] = data['response_tokens'].apply(lambda x: [ps.stem(word) for word in x])"
   ]
  },
  {
   "cell_type": "code",
   "execution_count": null,
   "metadata": {},
   "outputs": [],
   "source": [
    "# Perform lemmatization\n",
    "lemmatizer = WordNetLemmatizer()\n",
    "data['question_tokens'] = data['question_tokens'].apply(lambda x: [lemmatizer.lemmatize(word) for word in x])\n",
    "data['response_tokens'] = data['response_tokens'].apply(lambda x: [lemmatizer.lemmatize(word) for word in x])"
   ]
  },
  {
   "cell_type": "code",
   "execution_count": null,
   "metadata": {},
   "outputs": [],
   "source": [
    "# Use TF-IDF to vectorize the text\n",
    "tfidf_vectorizer = TfidfVectorizer()\n",
    "tfidf_matrix = tfidf_vectorizer.fit_transform(data['response'])\n",
    "tfidf_question_matrix = tfidf_vectorizer.transform(data['question'])"
   ]
  },
  {
   "cell_type": "code",
   "execution_count": null,
   "metadata": {},
   "outputs": [],
   "source": [
    "# Evaluate chatbot performance\n",
    "def evaluate_chatbot(chatbot_function, test_data):\n",
    "    num_correct = 0\n",
    "    num_total = len(test_data)\n",
    "\n",
    "    for i, row in test_data.iterrows():\n",
    "        user_input = row['question']\n",
    "        expected_response = row['response']\n",
    "        chatbot_response = chatbot_function(user_input)\n",
    "\n",
    "        if chatbot_response.strip() == expected_response.strip():\n",
    "            num_correct += 1\n",
    "        else:\n",
    "            print(\"Input: \" + user_input)\n",
    "            print(\"Expected output: \" + expected_response)\n",
    "            print(\"Chatbot output: \" + chatbot_response)\n",
    "            print()\n",
    "\n",
    "    accuracy = num_correct / num_total\n",
    "    print(\"Accuracy: {:.2f}%\".format(accuracy * 100))"
   ]
  },
  {
   "cell_type": "code",
   "execution_count": null,
   "metadata": {},
   "outputs": [],
   "source": [
    "# Load test dataset\n",
    "test_data = pd.read_csv('example_test_data.csv')"
   ]
  },
  {
   "cell_type": "code",
   "execution_count": null,
   "metadata": {},
   "outputs": [],
   "source": [
    "# Evaluate chatbot performance\n",
    "evaluate_chatbot(chatbot_response, test_data)"
   ]
  },
  {
   "cell_type": "code",
   "execution_count": null,
   "metadata": {},
   "outputs": [],
   "source": []
  },
  {
   "cell_type": "code",
   "execution_count": null,
   "metadata": {},
   "outputs": [],
   "source": []
  }
 ],
 "metadata": {
  "language_info": {
   "name": "python"
  },
  "orig_nbformat": 4
 },
 "nbformat": 4,
 "nbformat_minor": 2
}
