{
 "cells": [
  {
   "cell_type": "code",
   "execution_count": null,
   "metadata": {},
   "outputs": [],
   "source": [
    "import pandas as pd\n",
    "import nltk\n",
    "from nltk.corpus import stopwords\n",
    "from nltk.tokenize import word_tokenize\n",
    "from nltk.stem import PorterStemmer, WordNetLemmatizer\n",
    "from sklearn.feature_extraction.text import TfidfVectorizer\n",
    "from sklearn.metrics.pairwise import cosine_similarity"
   ]
  },
  {
   "cell_type": "code",
   "execution_count": null,
   "metadata": {},
   "outputs": [],
   "source": [
    "# Load data into a pandas dataframe\n",
    "data = pd.read_csv('example_data.csv')"
   ]
  },
  {
   "cell_type": "code",
   "execution_count": null,
   "metadata": {},
   "outputs": [],
   "source": [
    "# Convert text to lowercase\n",
    "data['question'] = data['question'].str.lower()\n",
    "data['response'] = data['response'].str.lower()"
   ]
  },
  {
   "cell_type": "code",
   "execution_count": null,
   "metadata": {},
   "outputs": [],
   "source": [
    "# Tokenize the text\n",
    "data['question_tokens'] = data['question'].apply(lambda x: word_tokenize(x))\n",
    "data['response_tokens'] = data['response'].apply(lambda x: word_tokenize(x))"
   ]
  },
  {
   "cell_type": "code",
   "execution_count": null,
   "metadata": {},
   "outputs": [],
   "source": [
    "# Remove stop words\n",
    "stop_words = set(stopwords.words('english'))\n",
    "data['question_tokens'] = data['question_tokens'].apply(lambda x: [word for word in x if word not in stop_words])\n",
    "data['response_tokens'] = data['response_tokens'].apply(lambda x: [word for word in x if word not in stop_words])"
   ]
  },
  {
   "cell_type": "code",
   "execution_count": null,
   "metadata": {},
   "outputs": [],
   "source": [
    "# Perform stemming\n",
    "ps = PorterStemmer()\n",
    "data['question_tokens'] = data['question_tokens'].apply(lambda x: [ps.stem(word) for word in x])\n",
    "data['response_tokens'] = data['response_tokens'].apply(lambda x: [ps.stem(word) for word in x])"
   ]
  },
  {
   "cell_type": "code",
   "execution_count": null,
   "metadata": {},
   "outputs": [],
   "source": [
    "# Perform lemmatization\n",
    "lemmatizer = WordNetLemmatizer()\n",
    "data['question_tokens'] = data['question_tokens'].apply(lambda x: [lemmatizer.lemmatize(word) for word in x])\n",
    "data['response_tokens'] = data['response_tokens'].apply(lambda x: [lemmatizer.lemmatize(word) for word in x])"
   ]
  },
  {
   "cell_type": "code",
   "execution_count": null,
   "metadata": {},
   "outputs": [],
   "source": [
    "# Use TF-IDF to vectorize the text\n",
    "tfidf_vectorizer = TfidfVectorizer()\n",
    "tfidf_matrix = tfidf_vectorizer.fit_transform(data['response'])\n",
    "tfidf_question_matrix = tfidf_vectorizer.transform(data['question'])"
   ]
  },
  {
   "cell_type": "code",
   "execution_count": null,
   "metadata": {},
   "outputs": [],
   "source": [
    "# Initialize chatbot\n",
    "def chatbot_response(user_input):\n",
    "    # Vectorize user input\n",
    "    user_input_tokens = word_tokenize(user_input.lower())\n",
    "    user_input_tokens = [word for word in user_input_tokens if word not in stop_words]\n",
    "    user_input_tokens = [ps.stem(word) for word in user_input_tokens]\n",
    "    user_input_tokens = [lemmatizer.lemmatize(word) for word in user_input_tokens]\n",
    "    user_input_tfidf = tfidf_vectorizer.transform([' '.join(user_input_tokens)])\n",
    "\n",
    "    # Calculate cosine similarity between user input and preprocessed data\n",
    "    cosine_similarities = cosine_similarity(user_input_tfidf, tfidf_matrix).flatten()\n",
    "    related_docs_indices = cosine_similarities.argsort()[::-1]\n",
    "\n",
    "    # Get response with highest cosine similarity to user input\n",
    "    if cosine_similarities[related_docs_indices[0]] == 0:\n",
    "        chatbot_response = \"I'm sorry, I don't understand. Can you please rephrase your question?\"\n",
    "    else:\n",
    "        chatbot_response = data.iloc[related_docs_indices[0]]['response']\n",
    "\n",
    "    return chatbot_response"
   ]
  },
  {
   "cell_type": "code",
   "execution_count": null,
   "metadata": {},
   "outputs": [],
   "source": [
    "# Main loop to interact with the chatbot\n",
    "print(\"Welcome to the Telecommunication Company Chatbot!\")\n",
    "print(\"Please type your question or type 'quit' to exit.\")"
   ]
  },
  {
   "cell_type": "code",
   "execution_count": null,
   "metadata": {},
   "outputs": [],
   "source": [
    "while True:\n",
    "    user_input = input(\"You: \")\n",
    "    if user_input.lower() == 'quit':\n",
    "        break\n",
    "    chatbot_response = chatbot_response(user_input)\n",
    "    print(\"Chatbot: \" + chatbot_response)"
   ]
  },
  {
   "cell_type": "markdown",
   "metadata": {},
   "source": []
  }
 ],
 "metadata": {
  "language_info": {
   "name": "python"
  },
  "orig_nbformat": 4
 },
 "nbformat": 4,
 "nbformat_minor": 2
}
